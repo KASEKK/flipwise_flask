{
 "cells": [
  {
   "cell_type": "code",
   "execution_count": 1,
   "id": "23492ca3",
   "metadata": {},
   "outputs": [],
   "source": [
    "import pandas as pd\n",
    "import json\n"
   ]
  },
  {
   "cell_type": "code",
   "execution_count": 2,
   "id": "e4071cb1",
   "metadata": {},
   "outputs": [],
   "source": [
    "\n",
    "# Load the JSON data\n",
    "file_path = \"C:/Users/Sergi/Desktop/FlipWise/flashcards_user1_data.json\"\n",
    "\n",
    "with open(file_path, 'r') as f:\n",
    "    data = json.load(f)"
   ]
  },
  {
   "cell_type": "code",
   "execution_count": 3,
   "id": "18d3b677",
   "metadata": {},
   "outputs": [],
   "source": [
    "# Convert to DataFrames for easier manipulation\n",
    "users_df = pd.DataFrame(data['users'])\n",
    "decks_df = pd.DataFrame(data['decks'])\n",
    "cards_df = pd.DataFrame(data['cards'])\n",
    "reviews_df = pd.DataFrame(data['reviews'])"
   ]
  },
  {
   "cell_type": "code",
   "execution_count": 4,
   "id": "a889a646",
   "metadata": {},
   "outputs": [
    {
     "data": {
      "text/plain": [
       "(   id     username                     email           password  \\\n",
       " 0   1  reesethomas  hayesjeffrey@hotmail.com  hashed_password_1   \n",
       " \n",
       "             created_at           updated_at  \n",
       " 0  2025-01-17 20:11:29  2025-07-22 12:16:39  ,\n",
       "    id    name                                      description  user_id  \\\n",
       " 0   1  Deck 1                 Leader who article look husband.        1   \n",
       " 1   2  Deck 2                  Should share face build market.        1   \n",
       " 2   3  Deck 3        Behind question exist rich prevent trade.        1   \n",
       " 3   4  Deck 4  Democratic change vote participant institution.        1   \n",
       " 4   5  Deck 5                            Call door population.        1   \n",
       " \n",
       "             created_at           updated_at  \n",
       " 0  2025-02-11 22:16:37  2025-07-10 09:38:12  \n",
       " 1  2025-06-17 05:59:44  2025-03-10 05:35:39  \n",
       " 2  2025-02-28 09:34:51  2025-05-10 11:09:33  \n",
       " 3  2025-04-22 21:18:04  2025-04-03 06:58:02  \n",
       " 4  2025-05-21 15:29:17  2025-05-29 16:27:41  ,\n",
       "    id                                      question  \\\n",
       " 0   1        Available ball part assume every plan.   \n",
       " 1   2  Fund law indeed believe interview professor.   \n",
       " 2   3      Government program seek test return why.   \n",
       " 3   4        Window stand party poor ago upon stop.   \n",
       " 4   5                             Begin most heavy.   \n",
       " \n",
       "                                               answer  deck_id    status  \\\n",
       " 0  Republican herself our far measure involve sol...        1  à revoir   \n",
       " 1                   Well rather listen before be it.        1   acquise   \n",
       " 2  Fine billion medical choice lot suggest glass ...        1  à revoir   \n",
       " 3                         Ahead event several TV go.        1  à revoir   \n",
       " 4           Game have return since nothing be apply.        1  à revoir   \n",
       " \n",
       "             created_at           updated_at     last_reviewed_at  \n",
       " 0  2025-02-14 10:24:59  2025-03-25 12:09:36  2025-06-17 00:32:32  \n",
       " 1  2025-05-25 17:19:13  2025-02-20 12:45:50  2025-01-24 07:03:47  \n",
       " 2  2025-02-14 14:48:31  2025-04-19 04:26:38  2025-03-29 19:57:19  \n",
       " 3  2025-03-12 10:49:20  2025-02-25 15:12:02  2025-06-05 15:34:51  \n",
       " 4  2025-03-03 03:09:59  2025-01-20 07:49:12  2025-02-01 16:23:41  ,\n",
       "    id  user_id  card_id     rating            timestamp\n",
       " 0   1        1        1  incorrect  2025-06-25 08:47:48\n",
       " 1   2        1        1    correct  2025-03-30 17:42:52\n",
       " 2   3        1        2    correct  2025-05-09 00:31:23\n",
       " 3   4        1        2  incorrect  2025-02-17 11:16:41\n",
       " 4   5        1        3  incorrect  2025-06-16 15:37:03)"
      ]
     },
     "execution_count": 4,
     "metadata": {},
     "output_type": "execute_result"
    }
   ],
   "source": [
    "# Preview the structure\n",
    "users_df.head(), decks_df.head(), cards_df.head(), reviews_df.head()"
   ]
  },
  {
   "cell_type": "code",
   "execution_count": 5,
   "id": "ebc0c809",
   "metadata": {},
   "outputs": [
    {
     "data": {
      "text/html": [
       "<div>\n",
       "<style scoped>\n",
       "    .dataframe tbody tr th:only-of-type {\n",
       "        vertical-align: middle;\n",
       "    }\n",
       "\n",
       "    .dataframe tbody tr th {\n",
       "        vertical-align: top;\n",
       "    }\n",
       "\n",
       "    .dataframe thead th {\n",
       "        text-align: right;\n",
       "    }\n",
       "</style>\n",
       "<table border=\"1\" class=\"dataframe\">\n",
       "  <thead>\n",
       "    <tr style=\"text-align: right;\">\n",
       "      <th></th>\n",
       "      <th>card_id</th>\n",
       "      <th>has_correct_answer</th>\n",
       "    </tr>\n",
       "  </thead>\n",
       "  <tbody>\n",
       "    <tr>\n",
       "      <th>0</th>\n",
       "      <td>1</td>\n",
       "      <td>True</td>\n",
       "    </tr>\n",
       "    <tr>\n",
       "      <th>1</th>\n",
       "      <td>2</td>\n",
       "      <td>True</td>\n",
       "    </tr>\n",
       "    <tr>\n",
       "      <th>2</th>\n",
       "      <td>3</td>\n",
       "      <td>False</td>\n",
       "    </tr>\n",
       "    <tr>\n",
       "      <th>3</th>\n",
       "      <td>4</td>\n",
       "      <td>True</td>\n",
       "    </tr>\n",
       "    <tr>\n",
       "      <th>4</th>\n",
       "      <td>5</td>\n",
       "      <td>True</td>\n",
       "    </tr>\n",
       "  </tbody>\n",
       "</table>\n",
       "</div>"
      ],
      "text/plain": [
       "   card_id  has_correct_answer\n",
       "0        1                True\n",
       "1        2                True\n",
       "2        3               False\n",
       "3        4                True\n",
       "4        5                True"
      ]
     },
     "execution_count": 5,
     "metadata": {},
     "output_type": "execute_result"
    }
   ],
   "source": [
    "# Crée une colonne 'correct' dans reviews_df pour coder True/False\n",
    "reviews_df['is_correct'] = reviews_df['rating'] == 'correct'\n",
    "\n",
    "# Pour chaque carte, déterminer s'il y a AU MOINS une réponse correcte\n",
    "correct_cards = reviews_df.groupby('card_id')['is_correct'].any().reset_index()\n",
    "correct_cards.columns = ['card_id', 'has_correct_answer']\n",
    "\n",
    "correct_cards.head()\n",
    "\n"
   ]
  },
  {
   "cell_type": "code",
   "execution_count": 6,
   "id": "adc405be",
   "metadata": {},
   "outputs": [
    {
     "data": {
      "text/html": [
       "<div>\n",
       "<style scoped>\n",
       "    .dataframe tbody tr th:only-of-type {\n",
       "        vertical-align: middle;\n",
       "    }\n",
       "\n",
       "    .dataframe tbody tr th {\n",
       "        vertical-align: top;\n",
       "    }\n",
       "\n",
       "    .dataframe thead th {\n",
       "        text-align: right;\n",
       "    }\n",
       "</style>\n",
       "<table border=\"1\" class=\"dataframe\">\n",
       "  <thead>\n",
       "    <tr style=\"text-align: right;\">\n",
       "      <th></th>\n",
       "      <th>name</th>\n",
       "      <th>total_cards</th>\n",
       "      <th>correct_cards</th>\n",
       "      <th>progress_percent</th>\n",
       "    </tr>\n",
       "  </thead>\n",
       "  <tbody>\n",
       "    <tr>\n",
       "      <th>0</th>\n",
       "      <td>Deck 1</td>\n",
       "      <td>6</td>\n",
       "      <td>4</td>\n",
       "      <td>66.666667</td>\n",
       "    </tr>\n",
       "    <tr>\n",
       "      <th>1</th>\n",
       "      <td>Deck 2</td>\n",
       "      <td>6</td>\n",
       "      <td>5</td>\n",
       "      <td>83.333333</td>\n",
       "    </tr>\n",
       "    <tr>\n",
       "      <th>2</th>\n",
       "      <td>Deck 3</td>\n",
       "      <td>6</td>\n",
       "      <td>2</td>\n",
       "      <td>33.333333</td>\n",
       "    </tr>\n",
       "    <tr>\n",
       "      <th>3</th>\n",
       "      <td>Deck 4</td>\n",
       "      <td>6</td>\n",
       "      <td>2</td>\n",
       "      <td>33.333333</td>\n",
       "    </tr>\n",
       "    <tr>\n",
       "      <th>4</th>\n",
       "      <td>Deck 5</td>\n",
       "      <td>6</td>\n",
       "      <td>2</td>\n",
       "      <td>33.333333</td>\n",
       "    </tr>\n",
       "  </tbody>\n",
       "</table>\n",
       "</div>"
      ],
      "text/plain": [
       "     name  total_cards  correct_cards  progress_percent\n",
       "0  Deck 1            6              4         66.666667\n",
       "1  Deck 2            6              5         83.333333\n",
       "2  Deck 3            6              2         33.333333\n",
       "3  Deck 4            6              2         33.333333\n",
       "4  Deck 5            6              2         33.333333"
      ]
     },
     "execution_count": 6,
     "metadata": {},
     "output_type": "execute_result"
    }
   ],
   "source": [
    "# Renommer la colonne 'id' en 'card_id' pour permettre la fusion\n",
    "cards_df = cards_df.rename(columns={'id': 'card_id'})\n",
    "\n",
    "# Fusionner avec les données de réponses correctes\n",
    "cards_with_correct = cards_df.merge(correct_cards, on='card_id', how='left')\n",
    "\n",
    "# Remplir les NaN avec False (les cartes sans réponse correcte)\n",
    "cards_with_correct['has_correct_answer'] = cards_with_correct['has_correct_answer'].fillna(False)\n",
    "\n",
    "# Calculer le progrès par deck\n",
    "deck_progress = cards_with_correct.groupby('deck_id').agg(\n",
    "    total_cards=('card_id', 'count'),\n",
    "    correct_cards=('has_correct_answer', 'sum')\n",
    ").reset_index()\n",
    "\n",
    "deck_progress['progress_percent'] = (deck_progress['correct_cards'] / deck_progress['total_cards']) * 100\n",
    "\n",
    "# Ajouter les noms des decks depuis decks_df\n",
    "deck_progress = deck_progress.merge(decks_df[['id', 'name']], left_on='deck_id', right_on='id')\n",
    "deck_progress = deck_progress[['name', 'total_cards', 'correct_cards', 'progress_percent']]\n",
    "\n",
    "# Affichage final\n",
    "deck_progress\n",
    "\n"
   ]
  },
  {
   "cell_type": "code",
   "execution_count": 7,
   "id": "f5dfafcf",
   "metadata": {},
   "outputs": [
    {
     "name": "stdout",
     "output_type": "stream",
     "text": [
      "✅ Fichier deck_progress.json généré avec succès dans le dossier 'static'\n"
     ]
    }
   ],
   "source": [
    "import os\n",
    "import json\n",
    "\n",
    "# Créer le dossier 'static' s’il n'existe pas encore\n",
    "os.makedirs('static', exist_ok=True)\n",
    "\n",
    "# Convertir le DataFrame en liste de dictionnaires\n",
    "deck_progress_json = deck_progress.to_dict(orient='records')\n",
    "\n",
    "# Sauvegarder dans un fichier JSON\n",
    "with open('static/deck_progress.json', 'w') as f:\n",
    "    json.dump(deck_progress_json, f, indent=4)\n",
    "\n",
    "print(\"✅ Fichier deck_progress.json généré avec succès dans le dossier 'static'\")\n"
   ]
  },
  {
   "cell_type": "code",
   "execution_count": 8,
   "id": "127e2989",
   "metadata": {},
   "outputs": [],
   "source": [
    "import json\n",
    "\n",
    "# Ce code suppose que tu as déjà deck_progress sous forme d'un DataFrame\n",
    "\n",
    "deck_progress_json = deck_progress.to_dict(orient='records')\n",
    "\n",
    "with open('static/deck_progress.json', 'w') as f:\n",
    "    json.dump(deck_progress_json, f, indent=4)\n"
   ]
  }
 ],
 "metadata": {
  "kernelspec": {
   "display_name": "flipwise-data",
   "language": "python",
   "name": "python3"
  },
  "language_info": {
   "codemirror_mode": {
    "name": "ipython",
    "version": 3
   },
   "file_extension": ".py",
   "mimetype": "text/x-python",
   "name": "python",
   "nbconvert_exporter": "python",
   "pygments_lexer": "ipython3",
   "version": "3.10.18"
  }
 },
 "nbformat": 4,
 "nbformat_minor": 5
}
